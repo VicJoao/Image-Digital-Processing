{
 "cells": [
  {
   "cell_type": "code",
   "execution_count": 1,
   "id": "initial_id",
   "metadata": {
    "collapsed": true,
    "ExecuteTime": {
     "end_time": "2024-03-25T11:39:20.795736425Z",
     "start_time": "2024-03-25T11:39:19.279522617Z"
    }
   },
   "outputs": [],
   "source": [
    "import numpy as np\n",
    "import cv2\n",
    "from sklearn.cluster import KMeans\n",
    "import matplotlib.pyplot as plt"
   ]
  },
  {
   "cell_type": "code",
   "outputs": [],
   "source": [
    "# Carregar a imagem\n",
    "img = cv2.imread('halteres.jpg')"
   ],
   "metadata": {
    "collapsed": false,
    "ExecuteTime": {
     "end_time": "2024-03-25T11:39:20.810797160Z",
     "start_time": "2024-03-25T11:39:20.799554708Z"
    }
   },
   "id": "9ee7b4bc151e5fb7",
   "execution_count": 2
  },
  {
   "cell_type": "code",
   "outputs": [],
   "source": [
    "# Transformar a imagem em um array 2D de pixels\n",
    "Z = img.reshape((-1, 3))\n",
    "Z = np.float32(Z)"
   ],
   "metadata": {
    "collapsed": false,
    "ExecuteTime": {
     "end_time": "2024-03-25T11:39:20.819563050Z",
     "start_time": "2024-03-25T11:39:20.806180348Z"
    }
   },
   "id": "87b5bf5ed7d10466",
   "execution_count": 3
  },
  {
   "cell_type": "code",
   "outputs": [],
   "source": [
    "# Critérios de parada, 10 e precisão igual a 1,0\n",
    "criteria = (cv2.TERM_CRITERIA_EPS + cv2.TERM_CRITERIA_MAX_ITER, 10, 1.0)\n",
    "K = 40"
   ],
   "metadata": {
    "collapsed": false,
    "ExecuteTime": {
     "end_time": "2024-03-25T11:39:20.895456115Z",
     "start_time": "2024-03-25T11:39:20.824048381Z"
    }
   },
   "id": "20a8c5f6796dab59",
   "execution_count": 4
  },
  {
   "cell_type": "code",
   "outputs": [],
   "source": [
    "# Aplica o algoritmo kmeans\n",
    "ret, label, center = cv2.kmeans(Z, K, None, criteria, 10, cv2.KMEANS_RANDOM_CENTERS)\n",
    "\n",
    "center = np.uint8(center)  # Converte os centros de float32 para uint8\n",
    "res = center[label.flatten()]  # Acessa o valor do centro para cada píxel\n",
    "res2 = res.reshape(img.shape)  # Remodela a imagem para o formato original\n",
    "\n",
    "final = np.concatenate((img, res2), axis=1)  # Concatena as imagens originais e segmentadas"
   ],
   "metadata": {
    "collapsed": false,
    "ExecuteTime": {
     "end_time": "2024-03-25T11:39:21.665891078Z",
     "start_time": "2024-03-25T11:39:20.871316959Z"
    }
   },
   "id": "865da595a1c3d438",
   "execution_count": 5
  },
  {
   "cell_type": "code",
   "outputs": [],
   "source": [
    "# Mostra a imagem\n",
    "cv2.imshow('Kmeans', final)\n",
    "cv2.waitKey(0)\n",
    "cv2.destroyAllWindows()"
   ],
   "metadata": {
    "collapsed": false,
    "is_executing": true,
    "ExecuteTime": {
     "start_time": "2024-03-25T11:39:22.594743650Z"
    }
   },
   "id": "5407d0c57b17ddd6",
   "execution_count": null
  },
  {
   "cell_type": "code",
   "outputs": [],
   "source": [
    "# Método Elbow para encontrar o número ideal de clusters\n",
    "distortions = []\n",
    "K = range(1, 10)\n",
    "for k in K:\n",
    "    kmeans = KMeans(n_clusters=k)  # Cria um objeto k-means\n",
    "    kmeans.fit(Z)  # Treina o modelo\n",
    "    distortions.append(kmeans.inertia_)  # Calcula a distorção"
   ],
   "metadata": {
    "collapsed": false,
    "ExecuteTime": {
     "end_time": "2024-03-21T13:50:43.492875651Z",
     "start_time": "2024-03-21T13:50:43.145032016Z"
    }
   },
   "id": "60d0c84e49a85ca9",
   "execution_count": 7
  },
  {
   "cell_type": "code",
   "outputs": [
    {
     "data": {
      "text/plain": "<Figure size 640x480 with 1 Axes>",
      "image/png": "[encoded data removed]"
     },
     "metadata": {},
     "output_type": "display_data"
    }
   ],
   "source": [
    "# Plota o gráfico\n",
    "plt.plot(K, distortions, 'bx-')\n",
    "plt.xlabel('k')\n",
    "plt.ylabel('Distorção')\n",
    "plt.title('Método Elbow para encontrar o valor ideal de k')\n",
    "plt.show()"
   ],
   "metadata": {
    "collapsed": false,
    "ExecuteTime": {
     "end_time": "2024-03-21T13:50:43.637768457Z",
     "start_time": "2024-03-21T13:50:43.491964953Z"
    }
   },
   "id": "5dc2c32302bad76d",
   "execution_count": 8
  },
  {
   "cell_type": "code",
   "outputs": [
    {
     "name": "stdout",
     "output_type": "stream",
     "text": [
      "Número de clusters: 2\n",
      "Número de cores de halteres: 2\n",
      "Número de clusters: 3\n",
      "Número de cores de halteres: 3\n",
      "Número de clusters: 4\n",
      "Número de cores de halteres: 4\n",
      "Número de clusters: 5\n",
      "Número de cores de halteres: 5\n"
     ]
    }
   ],
   "source": [
    "# Refazer o K-means com o número de clusters escolhido e seus vizinhos\n",
    "\n",
    "k_ideal = 3\n",
    "\n",
    "for k in range(k_ideal - 1, k_ideal + 3):\n",
    "    kmeans = KMeans(n_clusters=k)\n",
    "    kmeans.fit(Z)\n",
    "    labels = kmeans.labels_\n",
    "    centroids = kmeans.cluster_centers_\n",
    "    num_cores_utilizadas = len(centroids)\n",
    "    print(\"Número de clusters: %d\" % k)\n",
    "    print(\"Número de cores de halteres: %d\" % num_cores_utilizadas)\n",
    "    \n",
    "    # Recriar a imagem com as cores agrupadas\n",
    "    clustered_img = np.uint8(centroids[labels].reshape(img.shape))\n",
    "\n",
    "    # Mostrar a imagem resultante\n",
    "    cv2.imshow('K-means com {} clusters'.format(k), clustered_img)\n",
    "    cv2.waitKey(0)\n",
    "    cv2.destroyAllWindows()"
   ],
   "metadata": {
    "collapsed": false,
    "ExecuteTime": {
     "end_time": "2024-03-21T13:50:45.273974651Z",
     "start_time": "2024-03-21T13:50:43.643723601Z"
    }
   },
   "id": "92a0e7403833dc60",
   "execution_count": 9
  },
  {
   "cell_type": "code",
   "outputs": [
    {
     "name": "stdout",
     "output_type": "stream",
     "text": [
      "Esta imagem utilizou 25389 combinações de cores RGB\n"
     ]
    }
   ],
   "source": [
    "# Imprimir a quantidade de cores realmente utilizadas na imagem\n",
    "tuplas_unicas = set(map(tuple, Z))\n",
    "num_cor_pixel_utilizada = len(tuplas_unicas)\n",
    "print(\"Esta imagem utilizou %d combinações de cores RGB\" % num_cor_pixel_utilizada)"
   ],
   "metadata": {
    "collapsed": false,
    "ExecuteTime": {
     "end_time": "2024-03-21T13:50:45.384854140Z",
     "start_time": "2024-03-21T13:50:45.304759981Z"
    }
   },
   "id": "43ce36048c92e49d",
   "execution_count": 10
  }
 ],
 "metadata": {
  "kernelspec": {
   "display_name": "Python 3",
   "language": "python",
   "name": "python3"
  },
  "language_info": {
   "codemirror_mode": {
    "name": "ipython",
    "version": 2
   },
   "file_extension": ".py",
   "mimetype": "text/x-python",
   "name": "python",
   "nbconvert_exporter": "python",
   "pygments_lexer": "ipython2",
   "version": "2.7.6"
  }
 },
 "nbformat": 4,
 "nbformat_minor": 5
}
